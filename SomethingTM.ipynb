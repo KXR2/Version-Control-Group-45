{
 "cells": [
  {
   "cell_type": "code",
   "execution_count": 17,
   "id": "1db05454-c831-4618-b628-cbd0c51b9243",
   "metadata": {},
   "outputs": [
    {
     "name": "stdin",
     "output_type": "stream",
     "text": [
      "What hair color does your mom have? (lowercase) blonde\n",
      "What hair color does your dad have? (lowercase) blonde\n"
     ]
    },
    {
     "name": "stdout",
     "output_type": "stream",
     "text": [
      " There is a 75% chance you have blonde hair!\n"
     ]
    }
   ],
   "source": [
    "Hair1 = str(input(\"What hair color does your mom have? (lowercase)\"))\n",
    "Hair2 = str(input(\"What hair color does your dad have? (lowercase)\"))\n",
    "if (Hair1 == \"black\"and Hair2 == \"black\"):\n",
    "    print(\" There is a 95% chance you have black hair!\");\n",
    "elif (Hair1 == \"black\"and Hair2 == \"brown\"):\n",
    "    print(\" There is a 85% chance you have black or dark brown hair!\");\n",
    "elif (Hair1 == \"black\"and Hair2 == \"blonde\"):\n",
    "    print(\" There is a 70% chance you have brown hair!\");\n",
    "elif (Hair1 == \"brown\"and Hair2 == \"brown\"):\n",
    "    print(\" There is a 80% chance you have brown hair!\");\n",
    "elif (Hair1 == \"brown\"and Hair2 == \"blonde\"):\n",
    "    print(\" There is a 60% chance you have light brown or blonde hair!\");\n",
    "elif (Hair1 == \"blonde\"and Hair2 == \"blonde\"):\n",
    "    print(\" There is a 75% chance you have blonde hair!\");\n",
    "else:\n",
    "    print(\"Error, retry unless you have red hair.\");"
   ]
  }
 ],
 "metadata": {
  "kernelspec": {
   "display_name": "Python 3 (ipykernel)",
   "language": "python",
   "name": "python3"
  },
  "language_info": {
   "codemirror_mode": {
    "name": "ipython",
    "version": 3
   },
   "file_extension": ".py",
   "mimetype": "text/x-python",
   "name": "python",
   "nbconvert_exporter": "python",
   "pygments_lexer": "ipython3",
   "version": "3.11.13"
  }
 },
 "nbformat": 4,
 "nbformat_minor": 5
}
